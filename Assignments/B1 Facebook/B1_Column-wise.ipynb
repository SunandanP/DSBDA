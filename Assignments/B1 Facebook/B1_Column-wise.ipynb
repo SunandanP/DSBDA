{
 "cells": [
  {
   "cell_type": "markdown",
   "source": [
    "Perform the following operations using Python on the Facebook metrics data sets\n",
    "a. Create data subsets\n",
    "b. Merge Data\n",
    "c. Sort Data\n",
    "d. Transposing Data\n",
    "e. Shape and reshape Data"
   ],
   "metadata": {
    "collapsed": false
   },
   "id": "fead01531c2b5fcb"
  },
  {
   "cell_type": "code",
   "outputs": [],
   "source": [
    "import pandas as pd\n",
    "import numpy as np"
   ],
   "metadata": {
    "collapsed": false,
    "ExecuteTime": {
     "end_time": "2024-05-08T15:32:51.909646Z",
     "start_time": "2024-05-08T15:32:51.904498Z"
    }
   },
   "id": "b7acac8102d31d79",
   "execution_count": 2
  },
  {
   "cell_type": "code",
   "outputs": [
    {
     "data": {
      "text/plain": "     Page total likes    Type  Category  Post Month  Post Weekday  Post Hour  \\\n0              139441   Photo         2          12             4          3   \n1              139441  Status         2          12             3         10   \n2              139441   Photo         3          12             3          3   \n3              139441   Photo         2          12             2         10   \n4              139441   Photo         2          12             2          3   \n..                ...     ...       ...         ...           ...        ...   \n495             85093   Photo         3           1             7          2   \n496             81370   Photo         2           1             5          8   \n497             81370   Photo         1           1             5          2   \n498             81370   Photo         3           1             4         11   \n499             81370   Photo         2           1             4          4   \n\n     Paid  Lifetime Post Total Reach  Lifetime Post Total Impressions  \\\n0     0.0                       2752                             5091   \n1     0.0                      10460                            19057   \n2     0.0                       2413                             4373   \n3     1.0                      50128                            87991   \n4     0.0                       7244                            13594   \n..    ...                        ...                              ...   \n495   0.0                       4684                             7536   \n496   0.0                       3480                             6229   \n497   0.0                       3778                             7216   \n498   0.0                       4156                             7564   \n499   NaN                       4188                             7292   \n\n     Lifetime Engaged Users  Lifetime Post Consumers  \\\n0                       178                      109   \n1                      1457                     1361   \n2                       177                      113   \n3                      2211                      790   \n4                       671                      410   \n..                      ...                      ...   \n495                     733                      708   \n496                     537                      508   \n497                     625                      572   \n498                     626                      574   \n499                     564                      524   \n\n     Lifetime Post Consumptions  \\\n0                           159   \n1                          1674   \n2                           154   \n3                          1119   \n4                           580   \n..                          ...   \n495                         985   \n496                         687   \n497                         795   \n498                         832   \n499                         743   \n\n     Lifetime Post Impressions by people who have liked your Page  \\\n0                                                 3078              \n1                                                11710              \n2                                                 2812              \n3                                                61027              \n4                                                 6228              \n..                                                 ...              \n495                                               4750              \n496                                               3961              \n497                                               4742              \n498                                               4534              \n499                                               3861              \n\n     Lifetime Post reach by people who like your Page  \\\n0                                                1640   \n1                                                6112   \n2                                                1503   \n3                                               32048   \n4                                                3200   \n..                                                ...   \n495                                              2876   \n496                                              2104   \n497                                              2388   \n498                                              2452   \n499                                              2200   \n\n     Lifetime People who have liked your Page and engaged with your post  \\\n0                                                  119                     \n1                                                 1108                     \n2                                                  132                     \n3                                                 1386                     \n4                                                  396                     \n..                                                 ...                     \n495                                                392                     \n496                                                301                     \n497                                                363                     \n498                                                370                     \n499                                                316                     \n\n     comment    like  share  Total Interactions  \n0          4    79.0   17.0                 100  \n1          5   130.0   29.0                 164  \n2          0    66.0   14.0                  80  \n3         58  1572.0  147.0                1777  \n4         19   325.0   49.0                 393  \n..       ...     ...    ...                 ...  \n495        5    53.0   26.0                  84  \n496        0    53.0   22.0                  75  \n497        4    93.0   18.0                 115  \n498        7    91.0   38.0                 136  \n499        0    91.0   28.0                 119  \n\n[500 rows x 19 columns]",
      "text/html": "<div>\n<style scoped>\n    .dataframe tbody tr th:only-of-type {\n        vertical-align: middle;\n    }\n\n    .dataframe tbody tr th {\n        vertical-align: top;\n    }\n\n    .dataframe thead th {\n        text-align: right;\n    }\n</style>\n<table border=\"1\" class=\"dataframe\">\n  <thead>\n    <tr style=\"text-align: right;\">\n      <th></th>\n      <th>Page total likes</th>\n      <th>Type</th>\n      <th>Category</th>\n      <th>Post Month</th>\n      <th>Post Weekday</th>\n      <th>Post Hour</th>\n      <th>Paid</th>\n      <th>Lifetime Post Total Reach</th>\n      <th>Lifetime Post Total Impressions</th>\n      <th>Lifetime Engaged Users</th>\n      <th>Lifetime Post Consumers</th>\n      <th>Lifetime Post Consumptions</th>\n      <th>Lifetime Post Impressions by people who have liked your Page</th>\n      <th>Lifetime Post reach by people who like your Page</th>\n      <th>Lifetime People who have liked your Page and engaged with your post</th>\n      <th>comment</th>\n      <th>like</th>\n      <th>share</th>\n      <th>Total Interactions</th>\n    </tr>\n  </thead>\n  <tbody>\n    <tr>\n      <th>0</th>\n      <td>139441</td>\n      <td>Photo</td>\n      <td>2</td>\n      <td>12</td>\n      <td>4</td>\n      <td>3</td>\n      <td>0.0</td>\n      <td>2752</td>\n      <td>5091</td>\n      <td>178</td>\n      <td>109</td>\n      <td>159</td>\n      <td>3078</td>\n      <td>1640</td>\n      <td>119</td>\n      <td>4</td>\n      <td>79.0</td>\n      <td>17.0</td>\n      <td>100</td>\n    </tr>\n    <tr>\n      <th>1</th>\n      <td>139441</td>\n      <td>Status</td>\n      <td>2</td>\n      <td>12</td>\n      <td>3</td>\n      <td>10</td>\n      <td>0.0</td>\n      <td>10460</td>\n      <td>19057</td>\n      <td>1457</td>\n      <td>1361</td>\n      <td>1674</td>\n      <td>11710</td>\n      <td>6112</td>\n      <td>1108</td>\n      <td>5</td>\n      <td>130.0</td>\n      <td>29.0</td>\n      <td>164</td>\n    </tr>\n    <tr>\n      <th>2</th>\n      <td>139441</td>\n      <td>Photo</td>\n      <td>3</td>\n      <td>12</td>\n      <td>3</td>\n      <td>3</td>\n      <td>0.0</td>\n      <td>2413</td>\n      <td>4373</td>\n      <td>177</td>\n      <td>113</td>\n      <td>154</td>\n      <td>2812</td>\n      <td>1503</td>\n      <td>132</td>\n      <td>0</td>\n      <td>66.0</td>\n      <td>14.0</td>\n      <td>80</td>\n    </tr>\n    <tr>\n      <th>3</th>\n      <td>139441</td>\n      <td>Photo</td>\n      <td>2</td>\n      <td>12</td>\n      <td>2</td>\n      <td>10</td>\n      <td>1.0</td>\n      <td>50128</td>\n      <td>87991</td>\n      <td>2211</td>\n      <td>790</td>\n      <td>1119</td>\n      <td>61027</td>\n      <td>32048</td>\n      <td>1386</td>\n      <td>58</td>\n      <td>1572.0</td>\n      <td>147.0</td>\n      <td>1777</td>\n    </tr>\n    <tr>\n      <th>4</th>\n      <td>139441</td>\n      <td>Photo</td>\n      <td>2</td>\n      <td>12</td>\n      <td>2</td>\n      <td>3</td>\n      <td>0.0</td>\n      <td>7244</td>\n      <td>13594</td>\n      <td>671</td>\n      <td>410</td>\n      <td>580</td>\n      <td>6228</td>\n      <td>3200</td>\n      <td>396</td>\n      <td>19</td>\n      <td>325.0</td>\n      <td>49.0</td>\n      <td>393</td>\n    </tr>\n    <tr>\n      <th>...</th>\n      <td>...</td>\n      <td>...</td>\n      <td>...</td>\n      <td>...</td>\n      <td>...</td>\n      <td>...</td>\n      <td>...</td>\n      <td>...</td>\n      <td>...</td>\n      <td>...</td>\n      <td>...</td>\n      <td>...</td>\n      <td>...</td>\n      <td>...</td>\n      <td>...</td>\n      <td>...</td>\n      <td>...</td>\n      <td>...</td>\n      <td>...</td>\n    </tr>\n    <tr>\n      <th>495</th>\n      <td>85093</td>\n      <td>Photo</td>\n      <td>3</td>\n      <td>1</td>\n      <td>7</td>\n      <td>2</td>\n      <td>0.0</td>\n      <td>4684</td>\n      <td>7536</td>\n      <td>733</td>\n      <td>708</td>\n      <td>985</td>\n      <td>4750</td>\n      <td>2876</td>\n      <td>392</td>\n      <td>5</td>\n      <td>53.0</td>\n      <td>26.0</td>\n      <td>84</td>\n    </tr>\n    <tr>\n      <th>496</th>\n      <td>81370</td>\n      <td>Photo</td>\n      <td>2</td>\n      <td>1</td>\n      <td>5</td>\n      <td>8</td>\n      <td>0.0</td>\n      <td>3480</td>\n      <td>6229</td>\n      <td>537</td>\n      <td>508</td>\n      <td>687</td>\n      <td>3961</td>\n      <td>2104</td>\n      <td>301</td>\n      <td>0</td>\n      <td>53.0</td>\n      <td>22.0</td>\n      <td>75</td>\n    </tr>\n    <tr>\n      <th>497</th>\n      <td>81370</td>\n      <td>Photo</td>\n      <td>1</td>\n      <td>1</td>\n      <td>5</td>\n      <td>2</td>\n      <td>0.0</td>\n      <td>3778</td>\n      <td>7216</td>\n      <td>625</td>\n      <td>572</td>\n      <td>795</td>\n      <td>4742</td>\n      <td>2388</td>\n      <td>363</td>\n      <td>4</td>\n      <td>93.0</td>\n      <td>18.0</td>\n      <td>115</td>\n    </tr>\n    <tr>\n      <th>498</th>\n      <td>81370</td>\n      <td>Photo</td>\n      <td>3</td>\n      <td>1</td>\n      <td>4</td>\n      <td>11</td>\n      <td>0.0</td>\n      <td>4156</td>\n      <td>7564</td>\n      <td>626</td>\n      <td>574</td>\n      <td>832</td>\n      <td>4534</td>\n      <td>2452</td>\n      <td>370</td>\n      <td>7</td>\n      <td>91.0</td>\n      <td>38.0</td>\n      <td>136</td>\n    </tr>\n    <tr>\n      <th>499</th>\n      <td>81370</td>\n      <td>Photo</td>\n      <td>2</td>\n      <td>1</td>\n      <td>4</td>\n      <td>4</td>\n      <td>NaN</td>\n      <td>4188</td>\n      <td>7292</td>\n      <td>564</td>\n      <td>524</td>\n      <td>743</td>\n      <td>3861</td>\n      <td>2200</td>\n      <td>316</td>\n      <td>0</td>\n      <td>91.0</td>\n      <td>28.0</td>\n      <td>119</td>\n    </tr>\n  </tbody>\n</table>\n<p>500 rows × 19 columns</p>\n</div>"
     },
     "execution_count": 3,
     "metadata": {},
     "output_type": "execute_result"
    }
   ],
   "source": [
    "df = pd.read_csv(\"dataset_Facebook.csv\", delimiter=\";\")\n",
    "df"
   ],
   "metadata": {
    "collapsed": false,
    "ExecuteTime": {
     "end_time": "2024-05-08T15:32:52.304719Z",
     "start_time": "2024-05-08T15:32:51.920878Z"
    }
   },
   "id": "e90a8b59a4efbfc7",
   "execution_count": 3
  },
  {
   "cell_type": "code",
   "outputs": [
    {
     "data": {
      "text/plain": "     Page total likes    Type  Category  Post Month\n0              139441   Photo         2          12\n1              139441  Status         2          12\n2              139441   Photo         3          12\n3              139441   Photo         2          12\n4              139441   Photo         2          12\n..                ...     ...       ...         ...\n495             85093   Photo         3           1\n496             81370   Photo         2           1\n497             81370   Photo         1           1\n498             81370   Photo         3           1\n499             81370   Photo         2           1\n\n[500 rows x 4 columns]",
      "text/html": "<div>\n<style scoped>\n    .dataframe tbody tr th:only-of-type {\n        vertical-align: middle;\n    }\n\n    .dataframe tbody tr th {\n        vertical-align: top;\n    }\n\n    .dataframe thead th {\n        text-align: right;\n    }\n</style>\n<table border=\"1\" class=\"dataframe\">\n  <thead>\n    <tr style=\"text-align: right;\">\n      <th></th>\n      <th>Page total likes</th>\n      <th>Type</th>\n      <th>Category</th>\n      <th>Post Month</th>\n    </tr>\n  </thead>\n  <tbody>\n    <tr>\n      <th>0</th>\n      <td>139441</td>\n      <td>Photo</td>\n      <td>2</td>\n      <td>12</td>\n    </tr>\n    <tr>\n      <th>1</th>\n      <td>139441</td>\n      <td>Status</td>\n      <td>2</td>\n      <td>12</td>\n    </tr>\n    <tr>\n      <th>2</th>\n      <td>139441</td>\n      <td>Photo</td>\n      <td>3</td>\n      <td>12</td>\n    </tr>\n    <tr>\n      <th>3</th>\n      <td>139441</td>\n      <td>Photo</td>\n      <td>2</td>\n      <td>12</td>\n    </tr>\n    <tr>\n      <th>4</th>\n      <td>139441</td>\n      <td>Photo</td>\n      <td>2</td>\n      <td>12</td>\n    </tr>\n    <tr>\n      <th>...</th>\n      <td>...</td>\n      <td>...</td>\n      <td>...</td>\n      <td>...</td>\n    </tr>\n    <tr>\n      <th>495</th>\n      <td>85093</td>\n      <td>Photo</td>\n      <td>3</td>\n      <td>1</td>\n    </tr>\n    <tr>\n      <th>496</th>\n      <td>81370</td>\n      <td>Photo</td>\n      <td>2</td>\n      <td>1</td>\n    </tr>\n    <tr>\n      <th>497</th>\n      <td>81370</td>\n      <td>Photo</td>\n      <td>1</td>\n      <td>1</td>\n    </tr>\n    <tr>\n      <th>498</th>\n      <td>81370</td>\n      <td>Photo</td>\n      <td>3</td>\n      <td>1</td>\n    </tr>\n    <tr>\n      <th>499</th>\n      <td>81370</td>\n      <td>Photo</td>\n      <td>2</td>\n      <td>1</td>\n    </tr>\n  </tbody>\n</table>\n<p>500 rows × 4 columns</p>\n</div>"
     },
     "execution_count": 4,
     "metadata": {},
     "output_type": "execute_result"
    }
   ],
   "source": [
    "df_considered = df.iloc[:, 0:4]\n",
    "df_considered"
   ],
   "metadata": {
    "collapsed": false,
    "ExecuteTime": {
     "end_time": "2024-05-08T15:32:52.354061Z",
     "start_time": "2024-05-08T15:32:52.306188Z"
    }
   },
   "id": "7702f9cb995aabe3",
   "execution_count": 4
  },
  {
   "cell_type": "markdown",
   "source": [
    "# Creating data subsets"
   ],
   "metadata": {
    "collapsed": false
   },
   "id": "a5c729488f39e665"
  },
  {
   "cell_type": "code",
   "outputs": [
    {
     "data": {
      "text/plain": "Index(['Page total likes', 'Type', 'Category', 'Post Month', 'Post Weekday',\n       'Post Hour', 'Paid', 'Lifetime Post Total Reach',\n       'Lifetime Post Total Impressions', 'Lifetime Engaged Users',\n       'Lifetime Post Consumers', 'Lifetime Post Consumptions',\n       'Lifetime Post Impressions by people who have liked your Page',\n       'Lifetime Post reach by people who like your Page',\n       'Lifetime People who have liked your Page and engaged with your post',\n       'comment', 'like', 'share', 'Total Interactions'],\n      dtype='object')"
     },
     "execution_count": 5,
     "metadata": {},
     "output_type": "execute_result"
    }
   ],
   "source": [
    "columns = df.columns\n",
    "columns"
   ],
   "metadata": {
    "collapsed": false,
    "ExecuteTime": {
     "end_time": "2024-05-08T15:32:52.491609Z",
     "start_time": "2024-05-08T15:32:52.356470Z"
    }
   },
   "id": "146773e198b8ba71",
   "execution_count": 5
  },
  {
   "cell_type": "code",
   "outputs": [
    {
     "name": "stdout",
     "output_type": "stream",
     "text": [
      "[     Page total likes    Type  Category  Post Month  Post Weekday\n",
      "0              139441   Photo         2          12             4\n",
      "1              139441  Status         2          12             3\n",
      "2              139441   Photo         3          12             3\n",
      "3              139441   Photo         2          12             2\n",
      "4              139441   Photo         2          12             2\n",
      "..                ...     ...       ...         ...           ...\n",
      "495             85093   Photo         3           1             7\n",
      "496             81370   Photo         2           1             5\n",
      "497             81370   Photo         1           1             5\n",
      "498             81370   Photo         3           1             4\n",
      "499             81370   Photo         2           1             4\n",
      "\n",
      "[500 rows x 5 columns],      Post Hour  Paid  Lifetime Post Total Reach  \\\n",
      "0            3   0.0                       2752   \n",
      "1           10   0.0                      10460   \n",
      "2            3   0.0                       2413   \n",
      "3           10   1.0                      50128   \n",
      "4            3   0.0                       7244   \n",
      "..         ...   ...                        ...   \n",
      "495          2   0.0                       4684   \n",
      "496          8   0.0                       3480   \n",
      "497          2   0.0                       3778   \n",
      "498         11   0.0                       4156   \n",
      "499          4   NaN                       4188   \n",
      "\n",
      "     Lifetime Post Total Impressions  Lifetime Engaged Users  \n",
      "0                               5091                     178  \n",
      "1                              19057                    1457  \n",
      "2                               4373                     177  \n",
      "3                              87991                    2211  \n",
      "4                              13594                     671  \n",
      "..                               ...                     ...  \n",
      "495                             7536                     733  \n",
      "496                             6229                     537  \n",
      "497                             7216                     625  \n",
      "498                             7564                     626  \n",
      "499                             7292                     564  \n",
      "\n",
      "[500 rows x 5 columns],      Lifetime Post Consumers  Lifetime Post Consumptions  \\\n",
      "0                        109                         159   \n",
      "1                       1361                        1674   \n",
      "2                        113                         154   \n",
      "3                        790                        1119   \n",
      "4                        410                         580   \n",
      "..                       ...                         ...   \n",
      "495                      708                         985   \n",
      "496                      508                         687   \n",
      "497                      572                         795   \n",
      "498                      574                         832   \n",
      "499                      524                         743   \n",
      "\n",
      "     Lifetime Post Impressions by people who have liked your Page  \\\n",
      "0                                                 3078              \n",
      "1                                                11710              \n",
      "2                                                 2812              \n",
      "3                                                61027              \n",
      "4                                                 6228              \n",
      "..                                                 ...              \n",
      "495                                               4750              \n",
      "496                                               3961              \n",
      "497                                               4742              \n",
      "498                                               4534              \n",
      "499                                               3861              \n",
      "\n",
      "     Lifetime Post reach by people who like your Page  \\\n",
      "0                                                1640   \n",
      "1                                                6112   \n",
      "2                                                1503   \n",
      "3                                               32048   \n",
      "4                                                3200   \n",
      "..                                                ...   \n",
      "495                                              2876   \n",
      "496                                              2104   \n",
      "497                                              2388   \n",
      "498                                              2452   \n",
      "499                                              2200   \n",
      "\n",
      "     Lifetime People who have liked your Page and engaged with your post  \n",
      "0                                                  119                    \n",
      "1                                                 1108                    \n",
      "2                                                  132                    \n",
      "3                                                 1386                    \n",
      "4                                                  396                    \n",
      "..                                                 ...                    \n",
      "495                                                392                    \n",
      "496                                                301                    \n",
      "497                                                363                    \n",
      "498                                                370                    \n",
      "499                                                316                    \n",
      "\n",
      "[500 rows x 5 columns],      comment    like  share  Total Interactions\n",
      "0          4    79.0   17.0                 100\n",
      "1          5   130.0   29.0                 164\n",
      "2          0    66.0   14.0                  80\n",
      "3         58  1572.0  147.0                1777\n",
      "4         19   325.0   49.0                 393\n",
      "..       ...     ...    ...                 ...\n",
      "495        5    53.0   26.0                  84\n",
      "496        0    53.0   22.0                  75\n",
      "497        4    93.0   18.0                 115\n",
      "498        7    91.0   38.0                 136\n",
      "499        0    91.0   28.0                 119\n",
      "\n",
      "[500 rows x 4 columns]]\n",
      "[(0, 5), (5, 10), (10, 15), (15, 20)]\n"
     ]
    }
   ],
   "source": [
    "col_subsets = []\n",
    "it = []\n",
    "for i in range(0, len(columns), 5):\n",
    "    if i <= len(columns):\n",
    "        it.append((i, i+5))\n",
    "        col_subsets.append(df.iloc[:, i:i + 5 ])\n",
    "print(col_subsets)\n",
    "print(it)"
   ],
   "metadata": {
    "collapsed": false,
    "ExecuteTime": {
     "end_time": "2024-05-08T15:32:52.621561Z",
     "start_time": "2024-05-08T15:32:52.494079Z"
    }
   },
   "id": "76b34afc1a8dfee3",
   "execution_count": 6
  },
  {
   "cell_type": "markdown",
   "source": [
    "## Merge Data subsets"
   ],
   "metadata": {
    "collapsed": false
   },
   "id": "2b37dd0c8037f9b6"
  },
  {
   "cell_type": "code",
   "outputs": [
    {
     "data": {
      "text/plain": "[     Page total likes    Type  Category\n 0              139441   Photo         2\n 1              139441  Status         2\n 2              139441   Photo         3\n 3              139441   Photo         2\n 4              139441   Photo         2\n ..                ...     ...       ...\n 495             85093   Photo         3\n 496             81370   Photo         2\n 497             81370   Photo         1\n 498             81370   Photo         3\n 499             81370   Photo         2\n \n [500 rows x 3 columns],\n      Category  Post Month  Post Weekday\n 0           2          12             4\n 1           2          12             3\n 2           3          12             3\n 3           2          12             2\n 4           2          12             2\n ..        ...         ...           ...\n 495         3           1             7\n 496         2           1             5\n 497         1           1             5\n 498         3           1             4\n 499         2           1             4\n \n [500 rows x 3 columns]]"
     },
     "execution_count": 14,
     "metadata": {},
     "output_type": "execute_result"
    }
   ],
   "source": [
    "mergeable_subsets = []\n",
    "mergeable_subsets.append(df.iloc[:, 0:3])\n",
    "mergeable_subsets.append(df.iloc[:, 2:5])\n",
    "mergeable_subsets"
   ],
   "metadata": {
    "collapsed": false,
    "ExecuteTime": {
     "end_time": "2024-05-08T15:34:01.259759Z",
     "start_time": "2024-05-08T15:34:01.244489Z"
    }
   },
   "id": "3534500063b4b09e",
   "execution_count": 14
  },
  {
   "cell_type": "code",
   "outputs": [
    {
     "data": {
      "text/plain": "     Page total likes    Type  Category\n0              139441   Photo         2\n1              139441  Status         2\n2              139441   Photo         3\n3              139441   Photo         2\n4              139441   Photo         2\n..                ...     ...       ...\n495             85093   Photo         3\n496             81370   Photo         2\n497             81370   Photo         1\n498             81370   Photo         3\n499             81370   Photo         2\n\n[500 rows x 3 columns]",
      "text/html": "<div>\n<style scoped>\n    .dataframe tbody tr th:only-of-type {\n        vertical-align: middle;\n    }\n\n    .dataframe tbody tr th {\n        vertical-align: top;\n    }\n\n    .dataframe thead th {\n        text-align: right;\n    }\n</style>\n<table border=\"1\" class=\"dataframe\">\n  <thead>\n    <tr style=\"text-align: right;\">\n      <th></th>\n      <th>Page total likes</th>\n      <th>Type</th>\n      <th>Category</th>\n    </tr>\n  </thead>\n  <tbody>\n    <tr>\n      <th>0</th>\n      <td>139441</td>\n      <td>Photo</td>\n      <td>2</td>\n    </tr>\n    <tr>\n      <th>1</th>\n      <td>139441</td>\n      <td>Status</td>\n      <td>2</td>\n    </tr>\n    <tr>\n      <th>2</th>\n      <td>139441</td>\n      <td>Photo</td>\n      <td>3</td>\n    </tr>\n    <tr>\n      <th>3</th>\n      <td>139441</td>\n      <td>Photo</td>\n      <td>2</td>\n    </tr>\n    <tr>\n      <th>4</th>\n      <td>139441</td>\n      <td>Photo</td>\n      <td>2</td>\n    </tr>\n    <tr>\n      <th>...</th>\n      <td>...</td>\n      <td>...</td>\n      <td>...</td>\n    </tr>\n    <tr>\n      <th>495</th>\n      <td>85093</td>\n      <td>Photo</td>\n      <td>3</td>\n    </tr>\n    <tr>\n      <th>496</th>\n      <td>81370</td>\n      <td>Photo</td>\n      <td>2</td>\n    </tr>\n    <tr>\n      <th>497</th>\n      <td>81370</td>\n      <td>Photo</td>\n      <td>1</td>\n    </tr>\n    <tr>\n      <th>498</th>\n      <td>81370</td>\n      <td>Photo</td>\n      <td>3</td>\n    </tr>\n    <tr>\n      <th>499</th>\n      <td>81370</td>\n      <td>Photo</td>\n      <td>2</td>\n    </tr>\n  </tbody>\n</table>\n<p>500 rows × 3 columns</p>\n</div>"
     },
     "execution_count": 15,
     "metadata": {},
     "output_type": "execute_result"
    }
   ],
   "source": [
    "mergeable_subsets[0]"
   ],
   "metadata": {
    "collapsed": false,
    "ExecuteTime": {
     "end_time": "2024-05-08T15:34:03.036880Z",
     "start_time": "2024-05-08T15:34:03.026038Z"
    }
   },
   "id": "facc87071b7ac3f7",
   "execution_count": 15
  },
  {
   "cell_type": "code",
   "outputs": [
    {
     "data": {
      "text/plain": "     Category  Post Month  Post Weekday\n0           2          12             4\n1           2          12             3\n2           3          12             3\n3           2          12             2\n4           2          12             2\n..        ...         ...           ...\n495         3           1             7\n496         2           1             5\n497         1           1             5\n498         3           1             4\n499         2           1             4\n\n[500 rows x 3 columns]",
      "text/html": "<div>\n<style scoped>\n    .dataframe tbody tr th:only-of-type {\n        vertical-align: middle;\n    }\n\n    .dataframe tbody tr th {\n        vertical-align: top;\n    }\n\n    .dataframe thead th {\n        text-align: right;\n    }\n</style>\n<table border=\"1\" class=\"dataframe\">\n  <thead>\n    <tr style=\"text-align: right;\">\n      <th></th>\n      <th>Category</th>\n      <th>Post Month</th>\n      <th>Post Weekday</th>\n    </tr>\n  </thead>\n  <tbody>\n    <tr>\n      <th>0</th>\n      <td>2</td>\n      <td>12</td>\n      <td>4</td>\n    </tr>\n    <tr>\n      <th>1</th>\n      <td>2</td>\n      <td>12</td>\n      <td>3</td>\n    </tr>\n    <tr>\n      <th>2</th>\n      <td>3</td>\n      <td>12</td>\n      <td>3</td>\n    </tr>\n    <tr>\n      <th>3</th>\n      <td>2</td>\n      <td>12</td>\n      <td>2</td>\n    </tr>\n    <tr>\n      <th>4</th>\n      <td>2</td>\n      <td>12</td>\n      <td>2</td>\n    </tr>\n    <tr>\n      <th>...</th>\n      <td>...</td>\n      <td>...</td>\n      <td>...</td>\n    </tr>\n    <tr>\n      <th>495</th>\n      <td>3</td>\n      <td>1</td>\n      <td>7</td>\n    </tr>\n    <tr>\n      <th>496</th>\n      <td>2</td>\n      <td>1</td>\n      <td>5</td>\n    </tr>\n    <tr>\n      <th>497</th>\n      <td>1</td>\n      <td>1</td>\n      <td>5</td>\n    </tr>\n    <tr>\n      <th>498</th>\n      <td>3</td>\n      <td>1</td>\n      <td>4</td>\n    </tr>\n    <tr>\n      <th>499</th>\n      <td>2</td>\n      <td>1</td>\n      <td>4</td>\n    </tr>\n  </tbody>\n</table>\n<p>500 rows × 3 columns</p>\n</div>"
     },
     "execution_count": 16,
     "metadata": {},
     "output_type": "execute_result"
    }
   ],
   "source": [
    "mergeable_subsets[1]"
   ],
   "metadata": {
    "collapsed": false,
    "ExecuteTime": {
     "end_time": "2024-05-08T15:34:06.004572Z",
     "start_time": "2024-05-08T15:34:05.989470Z"
    }
   },
   "id": "54c82dffd1936f25",
   "execution_count": 16
  },
  {
   "cell_type": "code",
   "outputs": [],
   "source": [
    "merged_dataset = mergeable_subsets[1].merge(mergeable_subsets[0], on=\"Category\", how=\"inner\")"
   ],
   "metadata": {
    "collapsed": false,
    "ExecuteTime": {
     "end_time": "2024-05-08T15:34:15.128993Z",
     "start_time": "2024-05-08T15:34:15.109780Z"
    }
   },
   "id": "ae87b2794148b6ec",
   "execution_count": 18
  },
  {
   "cell_type": "code",
   "outputs": [
    {
     "data": {
      "text/plain": "       Category  Post Month  Post Weekday  Page total likes    Type\n0             2          12             4            139441   Photo\n1             2          12             4            139441  Status\n2             2          12             4            139441   Photo\n3             2          12             4            139441   Photo\n4             2          12             4            139441  Status\n...         ...         ...           ...               ...     ...\n87145         2           1             4             91758   Photo\n87146         2           1             4             86909   Photo\n87147         2           1             4             86491   Photo\n87148         2           1             4             81370   Photo\n87149         2           1             4             81370   Photo\n\n[87150 rows x 5 columns]",
      "text/html": "<div>\n<style scoped>\n    .dataframe tbody tr th:only-of-type {\n        vertical-align: middle;\n    }\n\n    .dataframe tbody tr th {\n        vertical-align: top;\n    }\n\n    .dataframe thead th {\n        text-align: right;\n    }\n</style>\n<table border=\"1\" class=\"dataframe\">\n  <thead>\n    <tr style=\"text-align: right;\">\n      <th></th>\n      <th>Category</th>\n      <th>Post Month</th>\n      <th>Post Weekday</th>\n      <th>Page total likes</th>\n      <th>Type</th>\n    </tr>\n  </thead>\n  <tbody>\n    <tr>\n      <th>0</th>\n      <td>2</td>\n      <td>12</td>\n      <td>4</td>\n      <td>139441</td>\n      <td>Photo</td>\n    </tr>\n    <tr>\n      <th>1</th>\n      <td>2</td>\n      <td>12</td>\n      <td>4</td>\n      <td>139441</td>\n      <td>Status</td>\n    </tr>\n    <tr>\n      <th>2</th>\n      <td>2</td>\n      <td>12</td>\n      <td>4</td>\n      <td>139441</td>\n      <td>Photo</td>\n    </tr>\n    <tr>\n      <th>3</th>\n      <td>2</td>\n      <td>12</td>\n      <td>4</td>\n      <td>139441</td>\n      <td>Photo</td>\n    </tr>\n    <tr>\n      <th>4</th>\n      <td>2</td>\n      <td>12</td>\n      <td>4</td>\n      <td>139441</td>\n      <td>Status</td>\n    </tr>\n    <tr>\n      <th>...</th>\n      <td>...</td>\n      <td>...</td>\n      <td>...</td>\n      <td>...</td>\n      <td>...</td>\n    </tr>\n    <tr>\n      <th>87145</th>\n      <td>2</td>\n      <td>1</td>\n      <td>4</td>\n      <td>91758</td>\n      <td>Photo</td>\n    </tr>\n    <tr>\n      <th>87146</th>\n      <td>2</td>\n      <td>1</td>\n      <td>4</td>\n      <td>86909</td>\n      <td>Photo</td>\n    </tr>\n    <tr>\n      <th>87147</th>\n      <td>2</td>\n      <td>1</td>\n      <td>4</td>\n      <td>86491</td>\n      <td>Photo</td>\n    </tr>\n    <tr>\n      <th>87148</th>\n      <td>2</td>\n      <td>1</td>\n      <td>4</td>\n      <td>81370</td>\n      <td>Photo</td>\n    </tr>\n    <tr>\n      <th>87149</th>\n      <td>2</td>\n      <td>1</td>\n      <td>4</td>\n      <td>81370</td>\n      <td>Photo</td>\n    </tr>\n  </tbody>\n</table>\n<p>87150 rows × 5 columns</p>\n</div>"
     },
     "execution_count": 19,
     "metadata": {},
     "output_type": "execute_result"
    }
   ],
   "source": [
    "merged_dataset"
   ],
   "metadata": {
    "collapsed": false,
    "ExecuteTime": {
     "end_time": "2024-05-08T15:34:16.544519Z",
     "start_time": "2024-05-08T15:34:16.530189Z"
    }
   },
   "id": "cfc231831f0805d0",
   "execution_count": 19
  },
  {
   "cell_type": "markdown",
   "source": [
    "# Sorting Data"
   ],
   "metadata": {
    "collapsed": false
   },
   "id": "5890ae101abb5352"
  },
  {
   "cell_type": "code",
   "outputs": [
    {
     "data": {
      "text/plain": "     Page total likes    Type  Category  Post Month  Post Weekday  Post Hour  \\\n499             81370   Photo         2           1             4          4   \n496             81370   Photo         2           1             5          8   \n498             81370   Photo         3           1             4         11   \n497             81370   Photo         1           1             5          2   \n493             85093   Photo         3           1             1          2   \n..                ...     ...       ...         ...           ...        ...   \n10             139441  Status         2          12             5         10   \n11             139441   Photo         2          12             5         10   \n13             139441   Photo         2          12             5          3   \n7              139441   Photo         3          12             7          9   \n0              139441   Photo         2          12             4          3   \n\n     Paid  Lifetime Post Total Reach  Lifetime Post Total Impressions  \\\n499   NaN                       4188                             7292   \n496   0.0                       3480                             6229   \n498   0.0                       4156                             7564   \n497   0.0                       3778                             7216   \n493   0.0                       8412                            13960   \n..    ...                        ...                              ...   \n10    0.0                      21744                            42334   \n11    0.0                       3112                             5590   \n13    0.0                       2549                             4896   \n7     1.0                      13720                            24137   \n0     0.0                       2752                             5091   \n\n     Lifetime Engaged Users  Lifetime Post Consumers  \\\n499                     564                      524   \n496                     537                      508   \n498                     626                      574   \n497                     625                      572   \n493                    1179                     1111   \n..                      ...                      ...   \n10                     4258                     4100   \n11                      208                      127   \n13                      249                      134   \n7                       537                      232   \n0                       178                      109   \n\n     Lifetime Post Consumptions  \\\n499                         743   \n496                         687   \n498                         832   \n497                         795   \n493                        1632   \n..                          ...   \n10                         4540   \n11                          145   \n13                          168   \n7                           305   \n0                           159   \n\n     Lifetime Post Impressions by people who have liked your Page  \\\n499                                               3861              \n496                                               3961              \n498                                               4534              \n497                                               4742              \n493                                               8632              \n..                                                 ...              \n10                                               37849              \n11                                                3887              \n13                                                3631              \n7                                                19728              \n0                                                 3078              \n\n     Lifetime Post reach by people who like your Page  \\\n499                                              2200   \n496                                              2104   \n498                                              2452   \n497                                              2388   \n493                                              5348   \n..                                                ...   \n10                                              18952   \n11                                               2174   \n13                                               1917   \n7                                               11056   \n0                                                1640   \n\n     Lifetime People who have liked your Page and engaged with your post  \\\n499                                                316                     \n496                                                301                     \n498                                                370                     \n497                                                363                     \n493                                                699                     \n..                                                 ...                     \n10                                                3798                     \n11                                                 165                     \n13                                                 183                     \n7                                                  422                     \n0                                                  119                     \n\n     comment   like  share  Total Interactions  \n499        0   91.0   28.0                 119  \n496        0   53.0   22.0                  75  \n498        7   91.0   38.0                 136  \n497        4   93.0   18.0                 115  \n493       17  185.0   55.0                 257  \n..       ...    ...    ...                 ...  \n10         0  233.0   19.0                 252  \n11         0   88.0   18.0                 106  \n13         5  137.0   10.0                 152  \n7          0  325.0   14.0                 339  \n0          4   79.0   17.0                 100  \n\n[500 rows x 19 columns]",
      "text/html": "<div>\n<style scoped>\n    .dataframe tbody tr th:only-of-type {\n        vertical-align: middle;\n    }\n\n    .dataframe tbody tr th {\n        vertical-align: top;\n    }\n\n    .dataframe thead th {\n        text-align: right;\n    }\n</style>\n<table border=\"1\" class=\"dataframe\">\n  <thead>\n    <tr style=\"text-align: right;\">\n      <th></th>\n      <th>Page total likes</th>\n      <th>Type</th>\n      <th>Category</th>\n      <th>Post Month</th>\n      <th>Post Weekday</th>\n      <th>Post Hour</th>\n      <th>Paid</th>\n      <th>Lifetime Post Total Reach</th>\n      <th>Lifetime Post Total Impressions</th>\n      <th>Lifetime Engaged Users</th>\n      <th>Lifetime Post Consumers</th>\n      <th>Lifetime Post Consumptions</th>\n      <th>Lifetime Post Impressions by people who have liked your Page</th>\n      <th>Lifetime Post reach by people who like your Page</th>\n      <th>Lifetime People who have liked your Page and engaged with your post</th>\n      <th>comment</th>\n      <th>like</th>\n      <th>share</th>\n      <th>Total Interactions</th>\n    </tr>\n  </thead>\n  <tbody>\n    <tr>\n      <th>499</th>\n      <td>81370</td>\n      <td>Photo</td>\n      <td>2</td>\n      <td>1</td>\n      <td>4</td>\n      <td>4</td>\n      <td>NaN</td>\n      <td>4188</td>\n      <td>7292</td>\n      <td>564</td>\n      <td>524</td>\n      <td>743</td>\n      <td>3861</td>\n      <td>2200</td>\n      <td>316</td>\n      <td>0</td>\n      <td>91.0</td>\n      <td>28.0</td>\n      <td>119</td>\n    </tr>\n    <tr>\n      <th>496</th>\n      <td>81370</td>\n      <td>Photo</td>\n      <td>2</td>\n      <td>1</td>\n      <td>5</td>\n      <td>8</td>\n      <td>0.0</td>\n      <td>3480</td>\n      <td>6229</td>\n      <td>537</td>\n      <td>508</td>\n      <td>687</td>\n      <td>3961</td>\n      <td>2104</td>\n      <td>301</td>\n      <td>0</td>\n      <td>53.0</td>\n      <td>22.0</td>\n      <td>75</td>\n    </tr>\n    <tr>\n      <th>498</th>\n      <td>81370</td>\n      <td>Photo</td>\n      <td>3</td>\n      <td>1</td>\n      <td>4</td>\n      <td>11</td>\n      <td>0.0</td>\n      <td>4156</td>\n      <td>7564</td>\n      <td>626</td>\n      <td>574</td>\n      <td>832</td>\n      <td>4534</td>\n      <td>2452</td>\n      <td>370</td>\n      <td>7</td>\n      <td>91.0</td>\n      <td>38.0</td>\n      <td>136</td>\n    </tr>\n    <tr>\n      <th>497</th>\n      <td>81370</td>\n      <td>Photo</td>\n      <td>1</td>\n      <td>1</td>\n      <td>5</td>\n      <td>2</td>\n      <td>0.0</td>\n      <td>3778</td>\n      <td>7216</td>\n      <td>625</td>\n      <td>572</td>\n      <td>795</td>\n      <td>4742</td>\n      <td>2388</td>\n      <td>363</td>\n      <td>4</td>\n      <td>93.0</td>\n      <td>18.0</td>\n      <td>115</td>\n    </tr>\n    <tr>\n      <th>493</th>\n      <td>85093</td>\n      <td>Photo</td>\n      <td>3</td>\n      <td>1</td>\n      <td>1</td>\n      <td>2</td>\n      <td>0.0</td>\n      <td>8412</td>\n      <td>13960</td>\n      <td>1179</td>\n      <td>1111</td>\n      <td>1632</td>\n      <td>8632</td>\n      <td>5348</td>\n      <td>699</td>\n      <td>17</td>\n      <td>185.0</td>\n      <td>55.0</td>\n      <td>257</td>\n    </tr>\n    <tr>\n      <th>...</th>\n      <td>...</td>\n      <td>...</td>\n      <td>...</td>\n      <td>...</td>\n      <td>...</td>\n      <td>...</td>\n      <td>...</td>\n      <td>...</td>\n      <td>...</td>\n      <td>...</td>\n      <td>...</td>\n      <td>...</td>\n      <td>...</td>\n      <td>...</td>\n      <td>...</td>\n      <td>...</td>\n      <td>...</td>\n      <td>...</td>\n      <td>...</td>\n    </tr>\n    <tr>\n      <th>10</th>\n      <td>139441</td>\n      <td>Status</td>\n      <td>2</td>\n      <td>12</td>\n      <td>5</td>\n      <td>10</td>\n      <td>0.0</td>\n      <td>21744</td>\n      <td>42334</td>\n      <td>4258</td>\n      <td>4100</td>\n      <td>4540</td>\n      <td>37849</td>\n      <td>18952</td>\n      <td>3798</td>\n      <td>0</td>\n      <td>233.0</td>\n      <td>19.0</td>\n      <td>252</td>\n    </tr>\n    <tr>\n      <th>11</th>\n      <td>139441</td>\n      <td>Photo</td>\n      <td>2</td>\n      <td>12</td>\n      <td>5</td>\n      <td>10</td>\n      <td>0.0</td>\n      <td>3112</td>\n      <td>5590</td>\n      <td>208</td>\n      <td>127</td>\n      <td>145</td>\n      <td>3887</td>\n      <td>2174</td>\n      <td>165</td>\n      <td>0</td>\n      <td>88.0</td>\n      <td>18.0</td>\n      <td>106</td>\n    </tr>\n    <tr>\n      <th>13</th>\n      <td>139441</td>\n      <td>Photo</td>\n      <td>2</td>\n      <td>12</td>\n      <td>5</td>\n      <td>3</td>\n      <td>0.0</td>\n      <td>2549</td>\n      <td>4896</td>\n      <td>249</td>\n      <td>134</td>\n      <td>168</td>\n      <td>3631</td>\n      <td>1917</td>\n      <td>183</td>\n      <td>5</td>\n      <td>137.0</td>\n      <td>10.0</td>\n      <td>152</td>\n    </tr>\n    <tr>\n      <th>7</th>\n      <td>139441</td>\n      <td>Photo</td>\n      <td>3</td>\n      <td>12</td>\n      <td>7</td>\n      <td>9</td>\n      <td>1.0</td>\n      <td>13720</td>\n      <td>24137</td>\n      <td>537</td>\n      <td>232</td>\n      <td>305</td>\n      <td>19728</td>\n      <td>11056</td>\n      <td>422</td>\n      <td>0</td>\n      <td>325.0</td>\n      <td>14.0</td>\n      <td>339</td>\n    </tr>\n    <tr>\n      <th>0</th>\n      <td>139441</td>\n      <td>Photo</td>\n      <td>2</td>\n      <td>12</td>\n      <td>4</td>\n      <td>3</td>\n      <td>0.0</td>\n      <td>2752</td>\n      <td>5091</td>\n      <td>178</td>\n      <td>109</td>\n      <td>159</td>\n      <td>3078</td>\n      <td>1640</td>\n      <td>119</td>\n      <td>4</td>\n      <td>79.0</td>\n      <td>17.0</td>\n      <td>100</td>\n    </tr>\n  </tbody>\n</table>\n<p>500 rows × 19 columns</p>\n</div>"
     },
     "execution_count": 21,
     "metadata": {},
     "output_type": "execute_result"
    }
   ],
   "source": [
    "sorted_data = df.sort_values(by=\"Page total likes\", ascending=True)\n",
    "sorted_data"
   ],
   "metadata": {
    "collapsed": false,
    "ExecuteTime": {
     "end_time": "2024-05-08T15:36:13.699475Z",
     "start_time": "2024-05-08T15:36:13.666674Z"
    }
   },
   "id": "dd9e39bb385a651e",
   "execution_count": 21
  },
  {
   "cell_type": "markdown",
   "source": [
    "# Transposing Data"
   ],
   "metadata": {
    "collapsed": false
   },
   "id": "1ab87419f97bee62"
  },
  {
   "cell_type": "code",
   "outputs": [
    {
     "data": {
      "text/plain": "                                                       0       1       2    \\\nPage total likes                                    139441  139441  139441   \nType                                                 Photo  Status   Photo   \nCategory                                                 2       2       3   \nPost Month                                              12      12      12   \nPost Weekday                                             4       3       3   \nPost Hour                                                3      10       3   \nPaid                                                   0.0     0.0     0.0   \nLifetime Post Total Reach                             2752   10460    2413   \nLifetime Post Total Impressions                       5091   19057    4373   \nLifetime Engaged Users                                 178    1457     177   \nLifetime Post Consumers                                109    1361     113   \nLifetime Post Consumptions                             159    1674     154   \nLifetime Post Impressions by people who have li...    3078   11710    2812   \nLifetime Post reach by people who like your Page      1640    6112    1503   \nLifetime People who have liked your Page and en...     119    1108     132   \ncomment                                                  4       5       0   \nlike                                                  79.0   130.0    66.0   \nshare                                                 17.0    29.0    14.0   \nTotal Interactions                                     100     164      80   \n\n                                                       3       4       5    \\\nPage total likes                                    139441  139441  139441   \nType                                                 Photo   Photo  Status   \nCategory                                                 2       2       2   \nPost Month                                              12      12      12   \nPost Weekday                                             2       2       1   \nPost Hour                                               10       3       9   \nPaid                                                   1.0     0.0     0.0   \nLifetime Post Total Reach                            50128    7244   10472   \nLifetime Post Total Impressions                      87991   13594   20849   \nLifetime Engaged Users                                2211     671    1191   \nLifetime Post Consumers                                790     410    1073   \nLifetime Post Consumptions                            1119     580    1389   \nLifetime Post Impressions by people who have li...   61027    6228   16034   \nLifetime Post reach by people who like your Page     32048    3200    7852   \nLifetime People who have liked your Page and en...    1386     396    1016   \ncomment                                                 58      19       1   \nlike                                                1572.0   325.0   152.0   \nshare                                                147.0    49.0    33.0   \nTotal Interactions                                    1777     393     186   \n\n                                                       6       7       8    \\\nPage total likes                                    139441  139441  139441   \nType                                                 Photo   Photo  Status   \nCategory                                                 3       3       2   \nPost Month                                              12      12      12   \nPost Weekday                                             1       7       7   \nPost Hour                                                3       9       3   \nPaid                                                   1.0     1.0     0.0   \nLifetime Post Total Reach                            11692   13720   11844   \nLifetime Post Total Impressions                      19479   24137   22538   \nLifetime Engaged Users                                 481     537    1530   \nLifetime Post Consumers                                265     232    1407   \nLifetime Post Consumptions                             364     305    1692   \nLifetime Post Impressions by people who have li...   15432   19728   15220   \nLifetime Post reach by people who like your Page      9328   11056    7912   \nLifetime People who have liked your Page and en...     379     422    1250   \ncomment                                                  3       0       0   \nlike                                                 249.0   325.0   161.0   \nshare                                                 27.0    14.0    31.0   \nTotal Interactions                                     279     339     192   \n\n                                                       9    ...    490    491  \\\nPage total likes                                    139441  ...  85979  85979   \nType                                                 Photo  ...  Photo  Photo   \nCategory                                                 3  ...      3      3   \nPost Month                                              12  ...      1      1   \nPost Weekday                                             6  ...      6      6   \nPost Hour                                               10  ...     11      3   \nPaid                                                   0.0  ...    0.0    1.0   \nLifetime Post Total Reach                             4694  ...   5280   6184   \nLifetime Post Total Impressions                       8668  ...   8703  10228   \nLifetime Engaged Users                                 280  ...    951    956   \nLifetime Post Consumers                                183  ...    911    901   \nLifetime Post Consumptions                             250  ...   1237   1140   \nLifetime Post Impressions by people who have li...    4309  ...   5757   6085   \nLifetime Post reach by people who like your Page      2324  ...   3300   3502   \nLifetime People who have liked your Page and en...     199  ...    431    437   \ncomment                                                  3  ...      1      1   \nlike                                                 113.0  ...   79.0  105.0   \nshare                                                 26.0  ...   30.0   46.0   \nTotal Interactions                                     142  ...    110    152   \n\n                                                      492    493    494  \\\nPage total likes                                    85979  85093  85093   \nType                                                 Link  Photo  Photo   \nCategory                                                1      3      3   \nPost Month                                              1      1      1   \nPost Weekday                                            5      1      7   \nPost Hour                                              11      2     10   \nPaid                                                  0.0    0.0    0.0   \nLifetime Post Total Reach                           45920   8412   5400   \nLifetime Post Total Impressions                      5808  13960   9218   \nLifetime Engaged Users                                753   1179    810   \nLifetime Post Consumers                               655   1111    756   \nLifetime Post Consumptions                            763   1632   1003   \nLifetime Post Impressions by people who have li...  15766   8632   5654   \nLifetime Post reach by people who like your Page    10720   5348   3230   \nLifetime People who have liked your Page and en...    220    699    422   \ncomment                                                 0     17     10   \nlike                                                128.0  185.0  125.0   \nshare                                                 9.0   55.0   41.0   \nTotal Interactions                                    137    257    176   \n\n                                                      495    496    497  \\\nPage total likes                                    85093  81370  81370   \nType                                                Photo  Photo  Photo   \nCategory                                                3      2      1   \nPost Month                                              1      1      1   \nPost Weekday                                            7      5      5   \nPost Hour                                               2      8      2   \nPaid                                                  0.0    0.0    0.0   \nLifetime Post Total Reach                            4684   3480   3778   \nLifetime Post Total Impressions                      7536   6229   7216   \nLifetime Engaged Users                                733    537    625   \nLifetime Post Consumers                               708    508    572   \nLifetime Post Consumptions                            985    687    795   \nLifetime Post Impressions by people who have li...   4750   3961   4742   \nLifetime Post reach by people who like your Page     2876   2104   2388   \nLifetime People who have liked your Page and en...    392    301    363   \ncomment                                                 5      0      4   \nlike                                                 53.0   53.0   93.0   \nshare                                                26.0   22.0   18.0   \nTotal Interactions                                     84     75    115   \n\n                                                      498    499  \nPage total likes                                    81370  81370  \nType                                                Photo  Photo  \nCategory                                                3      2  \nPost Month                                              1      1  \nPost Weekday                                            4      4  \nPost Hour                                              11      4  \nPaid                                                  0.0    NaN  \nLifetime Post Total Reach                            4156   4188  \nLifetime Post Total Impressions                      7564   7292  \nLifetime Engaged Users                                626    564  \nLifetime Post Consumers                               574    524  \nLifetime Post Consumptions                            832    743  \nLifetime Post Impressions by people who have li...   4534   3861  \nLifetime Post reach by people who like your Page     2452   2200  \nLifetime People who have liked your Page and en...    370    316  \ncomment                                                 7      0  \nlike                                                 91.0   91.0  \nshare                                                38.0   28.0  \nTotal Interactions                                    136    119  \n\n[19 rows x 500 columns]",
      "text/html": "<div>\n<style scoped>\n    .dataframe tbody tr th:only-of-type {\n        vertical-align: middle;\n    }\n\n    .dataframe tbody tr th {\n        vertical-align: top;\n    }\n\n    .dataframe thead th {\n        text-align: right;\n    }\n</style>\n<table border=\"1\" class=\"dataframe\">\n  <thead>\n    <tr style=\"text-align: right;\">\n      <th></th>\n      <th>0</th>\n      <th>1</th>\n      <th>2</th>\n      <th>3</th>\n      <th>4</th>\n      <th>5</th>\n      <th>6</th>\n      <th>7</th>\n      <th>8</th>\n      <th>9</th>\n      <th>...</th>\n      <th>490</th>\n      <th>491</th>\n      <th>492</th>\n      <th>493</th>\n      <th>494</th>\n      <th>495</th>\n      <th>496</th>\n      <th>497</th>\n      <th>498</th>\n      <th>499</th>\n    </tr>\n  </thead>\n  <tbody>\n    <tr>\n      <th>Page total likes</th>\n      <td>139441</td>\n      <td>139441</td>\n      <td>139441</td>\n      <td>139441</td>\n      <td>139441</td>\n      <td>139441</td>\n      <td>139441</td>\n      <td>139441</td>\n      <td>139441</td>\n      <td>139441</td>\n      <td>...</td>\n      <td>85979</td>\n      <td>85979</td>\n      <td>85979</td>\n      <td>85093</td>\n      <td>85093</td>\n      <td>85093</td>\n      <td>81370</td>\n      <td>81370</td>\n      <td>81370</td>\n      <td>81370</td>\n    </tr>\n    <tr>\n      <th>Type</th>\n      <td>Photo</td>\n      <td>Status</td>\n      <td>Photo</td>\n      <td>Photo</td>\n      <td>Photo</td>\n      <td>Status</td>\n      <td>Photo</td>\n      <td>Photo</td>\n      <td>Status</td>\n      <td>Photo</td>\n      <td>...</td>\n      <td>Photo</td>\n      <td>Photo</td>\n      <td>Link</td>\n      <td>Photo</td>\n      <td>Photo</td>\n      <td>Photo</td>\n      <td>Photo</td>\n      <td>Photo</td>\n      <td>Photo</td>\n      <td>Photo</td>\n    </tr>\n    <tr>\n      <th>Category</th>\n      <td>2</td>\n      <td>2</td>\n      <td>3</td>\n      <td>2</td>\n      <td>2</td>\n      <td>2</td>\n      <td>3</td>\n      <td>3</td>\n      <td>2</td>\n      <td>3</td>\n      <td>...</td>\n      <td>3</td>\n      <td>3</td>\n      <td>1</td>\n      <td>3</td>\n      <td>3</td>\n      <td>3</td>\n      <td>2</td>\n      <td>1</td>\n      <td>3</td>\n      <td>2</td>\n    </tr>\n    <tr>\n      <th>Post Month</th>\n      <td>12</td>\n      <td>12</td>\n      <td>12</td>\n      <td>12</td>\n      <td>12</td>\n      <td>12</td>\n      <td>12</td>\n      <td>12</td>\n      <td>12</td>\n      <td>12</td>\n      <td>...</td>\n      <td>1</td>\n      <td>1</td>\n      <td>1</td>\n      <td>1</td>\n      <td>1</td>\n      <td>1</td>\n      <td>1</td>\n      <td>1</td>\n      <td>1</td>\n      <td>1</td>\n    </tr>\n    <tr>\n      <th>Post Weekday</th>\n      <td>4</td>\n      <td>3</td>\n      <td>3</td>\n      <td>2</td>\n      <td>2</td>\n      <td>1</td>\n      <td>1</td>\n      <td>7</td>\n      <td>7</td>\n      <td>6</td>\n      <td>...</td>\n      <td>6</td>\n      <td>6</td>\n      <td>5</td>\n      <td>1</td>\n      <td>7</td>\n      <td>7</td>\n      <td>5</td>\n      <td>5</td>\n      <td>4</td>\n      <td>4</td>\n    </tr>\n    <tr>\n      <th>Post Hour</th>\n      <td>3</td>\n      <td>10</td>\n      <td>3</td>\n      <td>10</td>\n      <td>3</td>\n      <td>9</td>\n      <td>3</td>\n      <td>9</td>\n      <td>3</td>\n      <td>10</td>\n      <td>...</td>\n      <td>11</td>\n      <td>3</td>\n      <td>11</td>\n      <td>2</td>\n      <td>10</td>\n      <td>2</td>\n      <td>8</td>\n      <td>2</td>\n      <td>11</td>\n      <td>4</td>\n    </tr>\n    <tr>\n      <th>Paid</th>\n      <td>0.0</td>\n      <td>0.0</td>\n      <td>0.0</td>\n      <td>1.0</td>\n      <td>0.0</td>\n      <td>0.0</td>\n      <td>1.0</td>\n      <td>1.0</td>\n      <td>0.0</td>\n      <td>0.0</td>\n      <td>...</td>\n      <td>0.0</td>\n      <td>1.0</td>\n      <td>0.0</td>\n      <td>0.0</td>\n      <td>0.0</td>\n      <td>0.0</td>\n      <td>0.0</td>\n      <td>0.0</td>\n      <td>0.0</td>\n      <td>NaN</td>\n    </tr>\n    <tr>\n      <th>Lifetime Post Total Reach</th>\n      <td>2752</td>\n      <td>10460</td>\n      <td>2413</td>\n      <td>50128</td>\n      <td>7244</td>\n      <td>10472</td>\n      <td>11692</td>\n      <td>13720</td>\n      <td>11844</td>\n      <td>4694</td>\n      <td>...</td>\n      <td>5280</td>\n      <td>6184</td>\n      <td>45920</td>\n      <td>8412</td>\n      <td>5400</td>\n      <td>4684</td>\n      <td>3480</td>\n      <td>3778</td>\n      <td>4156</td>\n      <td>4188</td>\n    </tr>\n    <tr>\n      <th>Lifetime Post Total Impressions</th>\n      <td>5091</td>\n      <td>19057</td>\n      <td>4373</td>\n      <td>87991</td>\n      <td>13594</td>\n      <td>20849</td>\n      <td>19479</td>\n      <td>24137</td>\n      <td>22538</td>\n      <td>8668</td>\n      <td>...</td>\n      <td>8703</td>\n      <td>10228</td>\n      <td>5808</td>\n      <td>13960</td>\n      <td>9218</td>\n      <td>7536</td>\n      <td>6229</td>\n      <td>7216</td>\n      <td>7564</td>\n      <td>7292</td>\n    </tr>\n    <tr>\n      <th>Lifetime Engaged Users</th>\n      <td>178</td>\n      <td>1457</td>\n      <td>177</td>\n      <td>2211</td>\n      <td>671</td>\n      <td>1191</td>\n      <td>481</td>\n      <td>537</td>\n      <td>1530</td>\n      <td>280</td>\n      <td>...</td>\n      <td>951</td>\n      <td>956</td>\n      <td>753</td>\n      <td>1179</td>\n      <td>810</td>\n      <td>733</td>\n      <td>537</td>\n      <td>625</td>\n      <td>626</td>\n      <td>564</td>\n    </tr>\n    <tr>\n      <th>Lifetime Post Consumers</th>\n      <td>109</td>\n      <td>1361</td>\n      <td>113</td>\n      <td>790</td>\n      <td>410</td>\n      <td>1073</td>\n      <td>265</td>\n      <td>232</td>\n      <td>1407</td>\n      <td>183</td>\n      <td>...</td>\n      <td>911</td>\n      <td>901</td>\n      <td>655</td>\n      <td>1111</td>\n      <td>756</td>\n      <td>708</td>\n      <td>508</td>\n      <td>572</td>\n      <td>574</td>\n      <td>524</td>\n    </tr>\n    <tr>\n      <th>Lifetime Post Consumptions</th>\n      <td>159</td>\n      <td>1674</td>\n      <td>154</td>\n      <td>1119</td>\n      <td>580</td>\n      <td>1389</td>\n      <td>364</td>\n      <td>305</td>\n      <td>1692</td>\n      <td>250</td>\n      <td>...</td>\n      <td>1237</td>\n      <td>1140</td>\n      <td>763</td>\n      <td>1632</td>\n      <td>1003</td>\n      <td>985</td>\n      <td>687</td>\n      <td>795</td>\n      <td>832</td>\n      <td>743</td>\n    </tr>\n    <tr>\n      <th>Lifetime Post Impressions by people who have liked your Page</th>\n      <td>3078</td>\n      <td>11710</td>\n      <td>2812</td>\n      <td>61027</td>\n      <td>6228</td>\n      <td>16034</td>\n      <td>15432</td>\n      <td>19728</td>\n      <td>15220</td>\n      <td>4309</td>\n      <td>...</td>\n      <td>5757</td>\n      <td>6085</td>\n      <td>15766</td>\n      <td>8632</td>\n      <td>5654</td>\n      <td>4750</td>\n      <td>3961</td>\n      <td>4742</td>\n      <td>4534</td>\n      <td>3861</td>\n    </tr>\n    <tr>\n      <th>Lifetime Post reach by people who like your Page</th>\n      <td>1640</td>\n      <td>6112</td>\n      <td>1503</td>\n      <td>32048</td>\n      <td>3200</td>\n      <td>7852</td>\n      <td>9328</td>\n      <td>11056</td>\n      <td>7912</td>\n      <td>2324</td>\n      <td>...</td>\n      <td>3300</td>\n      <td>3502</td>\n      <td>10720</td>\n      <td>5348</td>\n      <td>3230</td>\n      <td>2876</td>\n      <td>2104</td>\n      <td>2388</td>\n      <td>2452</td>\n      <td>2200</td>\n    </tr>\n    <tr>\n      <th>Lifetime People who have liked your Page and engaged with your post</th>\n      <td>119</td>\n      <td>1108</td>\n      <td>132</td>\n      <td>1386</td>\n      <td>396</td>\n      <td>1016</td>\n      <td>379</td>\n      <td>422</td>\n      <td>1250</td>\n      <td>199</td>\n      <td>...</td>\n      <td>431</td>\n      <td>437</td>\n      <td>220</td>\n      <td>699</td>\n      <td>422</td>\n      <td>392</td>\n      <td>301</td>\n      <td>363</td>\n      <td>370</td>\n      <td>316</td>\n    </tr>\n    <tr>\n      <th>comment</th>\n      <td>4</td>\n      <td>5</td>\n      <td>0</td>\n      <td>58</td>\n      <td>19</td>\n      <td>1</td>\n      <td>3</td>\n      <td>0</td>\n      <td>0</td>\n      <td>3</td>\n      <td>...</td>\n      <td>1</td>\n      <td>1</td>\n      <td>0</td>\n      <td>17</td>\n      <td>10</td>\n      <td>5</td>\n      <td>0</td>\n      <td>4</td>\n      <td>7</td>\n      <td>0</td>\n    </tr>\n    <tr>\n      <th>like</th>\n      <td>79.0</td>\n      <td>130.0</td>\n      <td>66.0</td>\n      <td>1572.0</td>\n      <td>325.0</td>\n      <td>152.0</td>\n      <td>249.0</td>\n      <td>325.0</td>\n      <td>161.0</td>\n      <td>113.0</td>\n      <td>...</td>\n      <td>79.0</td>\n      <td>105.0</td>\n      <td>128.0</td>\n      <td>185.0</td>\n      <td>125.0</td>\n      <td>53.0</td>\n      <td>53.0</td>\n      <td>93.0</td>\n      <td>91.0</td>\n      <td>91.0</td>\n    </tr>\n    <tr>\n      <th>share</th>\n      <td>17.0</td>\n      <td>29.0</td>\n      <td>14.0</td>\n      <td>147.0</td>\n      <td>49.0</td>\n      <td>33.0</td>\n      <td>27.0</td>\n      <td>14.0</td>\n      <td>31.0</td>\n      <td>26.0</td>\n      <td>...</td>\n      <td>30.0</td>\n      <td>46.0</td>\n      <td>9.0</td>\n      <td>55.0</td>\n      <td>41.0</td>\n      <td>26.0</td>\n      <td>22.0</td>\n      <td>18.0</td>\n      <td>38.0</td>\n      <td>28.0</td>\n    </tr>\n    <tr>\n      <th>Total Interactions</th>\n      <td>100</td>\n      <td>164</td>\n      <td>80</td>\n      <td>1777</td>\n      <td>393</td>\n      <td>186</td>\n      <td>279</td>\n      <td>339</td>\n      <td>192</td>\n      <td>142</td>\n      <td>...</td>\n      <td>110</td>\n      <td>152</td>\n      <td>137</td>\n      <td>257</td>\n      <td>176</td>\n      <td>84</td>\n      <td>75</td>\n      <td>115</td>\n      <td>136</td>\n      <td>119</td>\n    </tr>\n  </tbody>\n</table>\n<p>19 rows × 500 columns</p>\n</div>"
     },
     "execution_count": 23,
     "metadata": {},
     "output_type": "execute_result"
    }
   ],
   "source": [
    "transposed_data = df.T\n",
    "transposed_data"
   ],
   "metadata": {
    "collapsed": false,
    "ExecuteTime": {
     "end_time": "2024-05-08T15:37:31.175771Z",
     "start_time": "2024-05-08T15:37:31.137215Z"
    }
   },
   "id": "c61ecbaffbf9ba72",
   "execution_count": 23
  }
 ],
 "metadata": {
  "kernelspec": {
   "display_name": "Python 3",
   "language": "python",
   "name": "python3"
  },
  "language_info": {
   "codemirror_mode": {
    "name": "ipython",
    "version": 2
   },
   "file_extension": ".py",
   "mimetype": "text/x-python",
   "name": "python",
   "nbconvert_exporter": "python",
   "pygments_lexer": "ipython2",
   "version": "2.7.6"
  }
 },
 "nbformat": 4,
 "nbformat_minor": 5
}
